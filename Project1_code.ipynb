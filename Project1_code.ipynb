{
 "cells": [
  {
   "cell_type": "code",
   "execution_count": 47,
   "metadata": {},
   "outputs": [],
   "source": [
    "import dlc_bci as bci\n",
    "import numpy as np\n",
    "\n",
    "import torch\n",
    "from torch.autograd import Variable\n",
    "from torch import nn\n",
    "from torch.nn import functional as F\n",
    "import matplotlib.pyplot as plt\n",
    "\n",
    "#pgdc de 316 et 100 c'est 4\n",
    "mini_batch_size = 4\n",
    "\n",
    "train_input, train_target  = bci.load(root = './data_bci')\n",
    "\n",
    "print(str(type(train_input)),train_input.size())\n",
    "print(str(type(train_target)),train_target.size())\n",
    "\n",
    "\n",
    "test_input, test_target  = bci.load(root = './data_bci', train=False)\n",
    "\n",
    "print(str(type(test_input)),test_input.size())\n",
    "print(str(type(test_target)),test_target.size())\n",
    "\n",
    "train_input = train_input.view(len(train_input),1,train_input.size(1),-1)\n",
    "test_input = test_input.view(len(test_input),1,test_input.size(1),-1)\n",
    "\n",
    "train_input, test_input, train_target, test_target = Variable(train_input), Variable(test_input), Variable(train_target), Variable(test_target)\n",
    "\n",
    "# data already 1400 dimensions, implement a Convolution layer\n",
    "\n",
    "class first_model(nn.Module):\n",
    "    def __init__(self,nb_hidden):\n",
    "        super(first_model, self).__init__()\n",
    "        self.conv1 = nn.Conv2d(1,3, kernel_size = 7) #3x22x44\n",
    "        self.fc1 = nn.Linear(363, nb_hidden)\n",
    "        self.fc2 = nn.Linear(nb_hidden, 2)\n",
    "\n",
    "    def forward(self, x):\n",
    "        x = F.relu(F.max_pool2d(self.conv1(x), kernel_size = (2,4))) # 3x11x11\n",
    "        x = F.relu(self.fc1(x.view(mini_batch_size,-1)))\n",
    "        x = self.fc2(x)\n",
    "        return x\n",
    "\n",
    "def train_model(model, train_input, train_target,mini_batch_size):\n",
    "    \n",
    "    criterion = nn.CrossEntropyLoss()\n",
    "    eta = 1e-1\n",
    "    optimizer = torch.optim.SGD(model.parameters(),lr=eta)\n",
    "    nb_epochs = 100\n",
    "\n",
    "    for e in range(0, nb_epochs):\n",
    "        for b in range(0, train_input.size(0), mini_batch_size):\n",
    "            output = model.forward(train_input.narrow(0, b, mini_batch_size))\n",
    "            loss = criterion(output, train_target.narrow(0, b, mini_batch_size))\n",
    "            model.zero_grad()\n",
    "            loss.backward()\n",
    "            optimizer.step()\n",
    "\n",
    "def compute_nb_errors(model, data_input, data_target, mini_batch_size):\n",
    "    \n",
    "    nb_errors = 0\n",
    "\n",
    "    for b in range(0, data_input.size(0), mini_batch_size):\n",
    "        output = model.forward(data_input.narrow(0, b, mini_batch_size))\n",
    "        print(output)\n",
    "        _, predicted_classes = output.data.max(1)\n",
    "        for k in range(0, mini_batch_size):\n",
    "            if data_target.data[b + k] - predicted_classes[k] != 0:\n",
    "                nb_errors = nb_errors + 1\n",
    "    return int(nb_errors)\n",
    "\n",
    "\n",
    "\n",
    "for nh in [ 10, 50, 200, 500, 2500 ]:\n",
    "    model = first_model(nh)\n",
    "    train_model(model, train_input, train_target, mini_batch_size)\n",
    "    nb_test_errors = compute_nb_errors(model, test_input, test_target, mini_batch_size)\n",
    "    print('test error first model nh={:d} {:0.2f}%% {:d}/{:d}'.format(nh,\n",
    "                                                              (100 * nb_test_errors) / test_input.size(0),\n",
    "                                                              nb_test_errors, test_input.size(0)))"
   ]
  },
  {
   "cell_type": "code",
   "execution_count": 8,
   "metadata": {},
   "outputs": [],
   "source": [
    "nb_errors = 0\n",
    "\n",
    "for b in range(0, train_input.size(0), mini_batch_size):\n",
    "    output = model.forward(train_input.narrow(0, b, mini_batch_size))\n",
    "    _, predicted_classes = output.data.max(1)\n",
    "    for k in range(0, mini_batch_size):\n",
    "        if train_target.data[b + k] - predicted_classes[k] != 0:\n",
    "            nb_errors = nb_errors + 1"
   ]
  },
  {
   "cell_type": "code",
   "execution_count": 20,
   "metadata": {},
   "outputs": [],
   "source": [
    "ok = nn.Conv2d(1,3, kernel_size = 7)\n",
    "ok2 = nn.Linear(363, 100)\n",
    "ok3 = nn.Linear(100, 2)\n",
    "\n",
    "x = F.relu(F.max_pool2d(ok(train_input.narrow(0, 0, 4)), kernel_size = (2,4)))"
   ]
  },
  {
   "cell_type": "code",
   "execution_count": 22,
   "metadata": {},
   "outputs": [
    {
     "data": {
      "text/plain": [
       "torch.Size([4, 3, 11, 11])"
      ]
     },
     "execution_count": 22,
     "metadata": {},
     "output_type": "execute_result"
    }
   ],
   "source": [
    "np.shape(x)"
   ]
  },
  {
   "cell_type": "code",
   "execution_count": 23,
   "metadata": {},
   "outputs": [],
   "source": [
    "x = F.relu(ok2(x.view(4,-1)))"
   ]
  },
  {
   "cell_type": "code",
   "execution_count": 25,
   "metadata": {},
   "outputs": [
    {
     "data": {
      "text/plain": [
       "torch.Size([4, 100])"
      ]
     },
     "execution_count": 25,
     "metadata": {},
     "output_type": "execute_result"
    }
   ],
   "source": [
    "np.shape(x)"
   ]
  },
  {
   "cell_type": "code",
   "execution_count": 43,
   "metadata": {},
   "outputs": [],
   "source": [
    "x = F.relu(ok3(x))"
   ]
  },
  {
   "cell_type": "code",
   "execution_count": 44,
   "metadata": {},
   "outputs": [
    {
     "data": {
      "text/plain": [
       "Variable containing:\n",
       " 2.8802  0.0000\n",
       " 0.4807  0.0000\n",
       " 2.0839  0.0000\n",
       " 0.0000  0.0000\n",
       "[torch.FloatTensor of size 4x2]"
      ]
     },
     "execution_count": 44,
     "metadata": {},
     "output_type": "execute_result"
    }
   ],
   "source": [
    "x"
   ]
  },
  {
   "cell_type": "code",
   "execution_count": 42,
   "metadata": {},
   "outputs": [
    {
     "data": {
      "text/plain": [
       "[<matplotlib.lines.Line2D at 0x11d69d358>]"
      ]
     },
     "execution_count": 42,
     "metadata": {},
     "output_type": "execute_result"
    },
    {
     "data": {
      "image/png": "[encoded data removed]",
      "text/plain": [
       "<matplotlib.figure.Figure at 0x11d5ae8d0>"
      ]
     },
     "metadata": {},
     "output_type": "display_data"
    }
   ],
   "source": [
    "plt.plot(train_input[0][0][1,:].data.numpy())"
   ]
  },
  {
   "cell_type": "code",
   "execution_count": 45,
   "metadata": {},
   "outputs": [],
   "source": [
    "output = model.forward(train_input.narrow(0, 0, 4))"
   ]
  },
  {
   "cell_type": "code",
   "execution_count": 46,
   "metadata": {},
   "outputs": [
    {
     "data": {
      "text/plain": [
       "Variable containing:\n",
       "nan nan\n",
       "nan nan\n",
       "nan nan\n",
       "nan nan\n",
       "[torch.FloatTensor of size 4x2]"
      ]
     },
     "execution_count": 46,
     "metadata": {},
     "output_type": "execute_result"
    }
   ],
   "source": [
    "output"
   ]
  },
  {
   "cell_type": "code",
   "execution_count": null,
   "metadata": {},
   "outputs": [],
   "source": []
  }
 ],
 "metadata": {
  "kernelspec": {
   "display_name": "Python 3",
   "language": "python",
   "name": "python3"
  },
  "language_info": {
   "codemirror_mode": {
    "name": "ipython",
    "version": 3
   },
   "file_extension": ".py",
   "mimetype": "text/x-python",
   "name": "python",
   "nbconvert_exporter": "python",
   "pygments_lexer": "ipython3",
   "version": "3.6.4"
  }
 },
 "nbformat": 4,
 "nbformat_minor": 2
}
