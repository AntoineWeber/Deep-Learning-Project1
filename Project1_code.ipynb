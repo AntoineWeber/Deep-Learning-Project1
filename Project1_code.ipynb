{
 "cells": [
  {
   "cell_type": "code",
   "execution_count": 1,
   "metadata": {},
   "outputs": [],
   "source": [
    "import dlc_bci as bci\n",
    "import numpy as np\n",
    "\n",
    "import torch\n",
    "from torch.autograd import Variable\n",
    "from torch import nn\n",
    "from torch.nn import functional as F\n",
    "import matplotlib.pyplot as plt\n",
    "\n",
    "#pgdc de 316 et 100 c'est 4\n",
    "mini_batch_size = 4"
   ]
  },
  {
   "cell_type": "code",
   "execution_count": 2,
   "metadata": {},
   "outputs": [
    {
     "name": "stdout",
     "output_type": "stream",
     "text": [
      "<class 'torch.FloatTensor'> torch.Size([316, 28, 50])\n",
      "<class 'torch.LongTensor'> torch.Size([316])\n",
      "<class 'torch.FloatTensor'> torch.Size([100, 28, 50])\n",
      "<class 'torch.LongTensor'> torch.Size([100])\n"
     ]
    }
   ],
   "source": [
    "train_input, train_target  = bci.load(root = './data_bci')\n",
    "\n",
    "print(str(type(train_input)),train_input.size())\n",
    "print(str(type(train_target)),train_target.size())\n",
    "\n",
    "\n",
    "test_input, test_target  = bci.load(root = './data_bci', train=False)\n",
    "\n",
    "print(str(type(test_input)),test_input.size())\n",
    "print(str(type(test_target)),test_target.size())"
   ]
  },
  {
   "cell_type": "markdown",
   "metadata": {},
   "source": [
    "## Center, reduce and finalize format"
   ]
  },
  {
   "cell_type": "code",
   "execution_count": 3,
   "metadata": {},
   "outputs": [],
   "source": [
    "train_moy = train_input.mean(dim=2).expand(train_input.size(2),train_input.size(0),train_input.size(1)).transpose(0,1).transpose(1,2)\n",
    "train_std = train_input.std(dim=2).expand(train_input.size(2),train_input.size(0),train_input.size(1)).transpose(0,1).transpose(1,2)\n",
    "train_input = train_input.sub_(train_moy).div(train_std)\n",
    "\n",
    "test_moy = test_input.mean(dim=2).expand(test_input.size(2),test_input.size(0),test_input.size(1)).transpose(0,1).transpose(1,2)\n",
    "test_std = test_input.std(dim=2).expand(test_input.size(2),test_input.size(0),test_input.size(1)).transpose(0,1).transpose(1,2)\n",
    "test_input = test_input.sub_(test_moy).div(test_std)"
   ]
  },
  {
   "cell_type": "code",
   "execution_count": 4,
   "metadata": {},
   "outputs": [],
   "source": [
    "train_input = train_input.view(len(train_input),1,train_input.size(1),-1)\n",
    "test_input = test_input.view(len(test_input),1,test_input.size(1),-1)\n",
    "\n",
    "train_input, test_input, train_target, test_target = Variable(train_input), Variable(test_input), Variable(train_target), Variable(test_target)"
   ]
  },
  {
   "cell_type": "code",
   "execution_count": 5,
   "metadata": {},
   "outputs": [],
   "source": [
    "class second_model(nn.Module):\n",
    "    def __init__(self, nb_hidden):\n",
    "        super(second_model, self).__init__()\n",
    "        self.conv1 = nn.Conv2d(1,32, kernel_size = 3)\n",
    "        self.conv2 = nn.Conv2d(32,64, kernel_size = 3) \n",
    "        self.conv3 = nn.Conv2d(64,128, kernel_size = 3) \n",
    "        self.fc1 = nn.Linear(384, nb_hidden)\n",
    "        self.fc2 = nn.Linear(nb_hidden, 2)\n",
    "        self.BN =  nn.BatchNorm1d(nb_hidden)\n",
    "\n",
    "    def forward(self, x):\n",
    "        x = F.relu(F.max_pool2d(self.conv1(x), kernel_size = 2)) #4x32x13x24\n",
    "        x = F.relu(F.max_pool2d(self.conv2(x), kernel_size = 2)) #4x64x5x11\n",
    "        x = F.relu(F.max_pool2d(self.conv3(x), kernel_size = 3)) #4x128x1x3\n",
    "        x = F.relu(self.fc1(x.view(mini_batch_size,-1)))\n",
    "        x = self.BN(x)\n",
    "        x = self.fc2(x)\n",
    "        return x"
   ]
  },
  {
   "cell_type": "code",
   "execution_count": 6,
   "metadata": {},
   "outputs": [],
   "source": [
    "# data already 1400 dimensions, implement a Convolution layer\n",
    "\n",
    "class first_model(nn.Module):\n",
    "    def __init__(self,nb_hidden):\n",
    "        super(first_model, self).__init__()\n",
    "        self.conv1 = nn.Conv2d(1,10, kernel_size = 7) #3x22x44\n",
    "        self.fc1 = nn.Linear(1210, nb_hidden)\n",
    "        self.fc2 = nn.Linear(nb_hidden, 2)\n",
    "        self.BN =  nn.BatchNorm1d(nb_hidden)\n",
    "\n",
    "    def forward(self, x):\n",
    "        x = F.relu(F.max_pool2d(self.conv1(x), kernel_size = (2,4))) # 3x11x11\n",
    "        x = F.relu(self.fc1(x.view(mini_batch_size,-1)))\n",
    "        x = self.BN(x)\n",
    "        x = self.fc2(x)\n",
    "        return x"
   ]
  },
  {
   "cell_type": "code",
   "execution_count": 7,
   "metadata": {},
   "outputs": [],
   "source": [
    "def train_model(model, train_input, train_target,mini_batch_size):\n",
    "    \n",
    "    criterion = nn.CrossEntropyLoss()\n",
    "    eta = 2e-2\n",
    "    optimizer = torch.optim.SGD(model.parameters(),lr=eta,momentum=0.3)\n",
    "    nb_epochs = 100\n",
    "\n",
    "    for e in range(0, nb_epochs):\n",
    "        for b in range(0, train_input.size(0), mini_batch_size):\n",
    "            output = model.forward(train_input.narrow(0, b, mini_batch_size))\n",
    "            loss = criterion(output, train_target.narrow(0, b, mini_batch_size))\n",
    "            model.zero_grad()\n",
    "            loss.backward()\n",
    "            optimizer.step()\n",
    "\n",
    "def compute_nb_errors(model, data_input, data_target, mini_batch_size):\n",
    "    \n",
    "    nb_errors = 0\n",
    "\n",
    "    for b in range(0, data_input.size(0), mini_batch_size):\n",
    "        output = model.forward(data_input.narrow(0, b, mini_batch_size))\n",
    "        _, predicted_classes = output.data.max(1)\n",
    "        for k in range(0, mini_batch_size):\n",
    "            if (data_target.data[b + k] - predicted_classes[k] != 0):\n",
    "                nb_errors = nb_errors + 1\n",
    "    return int(nb_errors)"
   ]
  },
  {
   "cell_type": "code",
   "execution_count": 8,
   "metadata": {
    "scrolled": false
   },
   "outputs": [
    {
     "name": "stdout",
     "output_type": "stream",
     "text": [
      "Second model : test error rate = 50.00% and train error rate = 9.49% with 10 hidden units\n",
      "Second model : test error rate = 47.00% and train error rate = 8.54% with 50 hidden units\n",
      "Second model : test error rate = 41.00% and train error rate = 8.54% with 100 hidden units\n",
      "Second model : test error rate = 50.00% and train error rate = 7.59% with 200 hidden units\n",
      "Second model : test error rate = 49.00% and train error rate = 9.49% with 500 hidden units\n",
      "Second model : test error rate = 49.00% and train error rate = 9.49% with 1000 hidden units\n"
     ]
    }
   ],
   "source": [
    "\n",
    "for nb in [10,50,100,200,500,1000]:\n",
    "    model = second_model(nb)\n",
    "    train_model(model, train_input, train_target, mini_batch_size)\n",
    "    nb_test_errors = compute_nb_errors(model, test_input, test_target, mini_batch_size)\n",
    "    nb_train_errors = compute_nb_errors(model, train_input, train_target, mini_batch_size)\n",
    "\n",
    "    print('Second model : test error rate = {:.02f}% and train error rate = {:.02f}% with {} hidden units'\n",
    "                  .format(nb_test_errors/test_input.size(0)*100,\n",
    "                          nb_train_errors/train_input.size(0)*100,\n",
    "                          nb))"
   ]
  },
  {
   "cell_type": "code",
   "execution_count": null,
   "metadata": {},
   "outputs": [],
   "source": []
  }
 ],
 "metadata": {
  "kernelspec": {
   "display_name": "Python 3",
   "language": "python",
   "name": "python3"
  },
  "language_info": {
   "codemirror_mode": {
    "name": "ipython",
    "version": 3
   },
   "file_extension": ".py",
   "mimetype": "text/x-python",
   "name": "python",
   "nbconvert_exporter": "python",
   "pygments_lexer": "ipython3",
   "version": "3.6.4"
  }
 },
 "nbformat": 4,
 "nbformat_minor": 2
}
