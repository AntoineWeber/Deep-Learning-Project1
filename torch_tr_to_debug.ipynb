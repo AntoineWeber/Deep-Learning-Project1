{
 "cells": [
  {
   "cell_type": "code",
   "execution_count": 1,
   "metadata": {},
   "outputs": [],
   "source": [
    "#import libraries\n",
    "import torch\n",
    "import math\n",
    "\n",
    "from torch import optim\n",
    "from torch import Tensor\n",
    "\n",
    "from torch.autograd import Variable\n",
    "from torch import nn\n",
    "from torch.nn import functional as F"
   ]
  },
  {
   "cell_type": "code",
   "execution_count": 2,
   "metadata": {},
   "outputs": [
    {
     "name": "stdout",
     "output_type": "stream",
     "text": [
      "<class 'torch.FloatTensor'> torch.Size([316, 28, 500])\n",
      "<class 'torch.LongTensor'> torch.Size([316])\n",
      "<class 'torch.FloatTensor'> torch.Size([100, 28, 500])\n",
      "<class 'torch.LongTensor'> torch.Size([100])\n",
      "nb_train_signals =  316 , nb_electrodes =  28 , nb_samples_per_signal =  500\n"
     ]
    }
   ],
   "source": [
    "#import data\n",
    "import dlc_bci as bci\n",
    "train_input, train_target = bci.load(root =  './data_bci', train=True, one_khz=True)\n",
    "train_input = train_input \n",
    "\n",
    "print(str(type(train_input)), train_input.size())\n",
    "print(str(type(train_target)), train_target.size())\n",
    "test_input, test_target = bci.load(root =  './data_bci', train=False, one_khz=True)\n",
    "print(str(type(test_input)), test_input.size())\n",
    "print(str(type(test_target)), test_target.size())\n",
    "\n",
    "F.normalize(train_input, p=2, dim=2) #not sure this normalization does what I want\n",
    "F.normalize(test_input, p=2, dim=2)\n",
    "\n",
    "nb_train_signals = train_input.shape[0]\n",
    "nb_electrodes = train_input.shape[1]\n",
    "nb_samples_per_signal = train_input.shape[2] #There was a small error in Thibault's code here, corrected here\n",
    "print('nb_train_signals = ', nb_train_signals, ', nb_electrodes = ', nb_electrodes, ', nb_samples_per_signal = ', nb_samples_per_signal)\n",
    "mini_batch_size = 32\n",
    "train_input, test_input, train_target, test_target = Variable(train_input), Variable(test_input), Variable(train_target), Variable(test_target)"
   ]
  },
  {
   "cell_type": "code",
   "execution_count": 10,
   "metadata": {},
   "outputs": [],
   "source": [
    "class Thibaults_model(nn.Module):\n",
    "    def __init__(self):\n",
    "        super(Thibaults_model, self).__init__()\n",
    "        self.conv1 = nn.Conv1d(in_channels = nb_electrodes, out_channels = 32, kernel_size = 3) #Length= nb_samples_per_signal-2 = 498\n",
    "        self.conv2 = nn.Conv1d(in_channels = 32, out_channels = 32, kernel_size = 3) #Length= nb_samples_per_signal-4 = 496\n",
    "        self.pool = nn.MaxPool1d(kernel_size = 2) #Length= (nb_samples_per_signal - 4)/2 = 248\n",
    "        self.conv3 = nn.Conv1d(in_channels = 32, out_channels = 64, kernel_size = 3) #(Length= nb_samples_per_signal-4)/2 -2 = 246\n",
    "        self.conv4 = nn.Conv1d(in_channels = 64, out_channels = 64, kernel_size = 3) #(Length= nb_samples_per_signal-4)/2 -4 = 244\n",
    "        self.conv5 = nn.Conv1d(in_channels = 64, out_channels = 128, kernel_size = 3) #((Length= nb_samples_per_signal-4)/2 -4)/2 -2 = 120\n",
    "        self.conv6 = nn.Conv1d(in_channels = 128, out_channels = 128, kernel_size = 3) #((Length= nb_samples_per_signal-4)/2 -4)/2 -4 = 198\n",
    "        self.conv7 = nn.Conv1d(in_channels = 128, out_channels = 256, kernel_size = 3) #(((Length= nb_samples_per_signal-4)/2 -4)/2 - 4)/2 -2 = 97\n",
    "        self.conv8 = nn.Conv1d(in_channels = 256, out_channels = 256, kernel_size = 3) #(((Length= nb_samples_per_signal-4)/2 -4)/2 - 4)/2  -4= 95\n",
    "        self.fc1 = nn.Linear(in_features=14080, out_features=100) #Really not sure, hope so? apparently he recieves 256*32 channels x 55 long signals\n",
    "        self.dropout = nn.Dropout(p=0.5)\n",
    "        self.fc2 = nn.Linear(in_features=100, out_features=100)\n",
    "        self.fc3 = nn.Linear(in_features=100, out_features=2)\n",
    "    def forward(self, x):\n",
    "        x = F.relu(self.conv1(x)) \n",
    "        x = F.relu(self.conv2(x))\n",
    "        x = F.relu(self.conv3(self.pool(x)))\n",
    "        x = F.relu(self.conv4(x))\n",
    "        x = F.relu(self.conv5(self.pool(x)))\n",
    "        x = F.relu(self.conv6(x))\n",
    "        x = F.relu(self.conv7(self.pool(x)))\n",
    "        x = F.relu(self.conv8(x))\n",
    "        x = x.view(mini_batch_size, -1)\n",
    "        x = F.relu(self.fc3(F.relu(self.fc2(F.relu(self.fc1(x))))))\n",
    "        return x"
   ]
  },
  {
   "cell_type": "code",
   "execution_count": 11,
   "metadata": {},
   "outputs": [],
   "source": [
    "def train_model(model, train_input, train_target):\n",
    "    criterion = nn.CrossEntropyLoss()\n",
    "    optimizer = torch.optim.Adam(model.parameters()) #No idea what those parameters do\n",
    "    nb_epochs = 100\n",
    "\n",
    "    for e in range(0, nb_epochs):\n",
    "        for b in range(0, train_input.size(0), mini_batch_size):\n",
    "            output = model(train_input.narrow(0, b, mini_batch_size))\n",
    "            loss = criterion(output, train_target.narrow(0, b, mini_batch_size))\n",
    "            model.zero_grad()\n",
    "            loss.backward()\n",
    "            optimizer.step()\n",
    "\n",
    "######################################################################\n",
    "\n",
    "def compute_nb_errors(model, data_input, data_target):\n",
    "\n",
    "    nb_data_errors = 0\n",
    "\n",
    "    for b in range(0, data_input.size(0), mini_batch_size):\n",
    "        output = model(data_input.narrow(0, b, mini_batch_size))\n",
    "        _, predicted_classes = torch.max(output.data, 1)\n",
    "        for k in range(0, mini_batch_size):\n",
    "            if data_target.data[b + k] != predicted_classes[k]:\n",
    "                nb_data_errors = nb_data_errors + 1\n",
    "\n",
    "    return nb_data_errors"
   ]
  },
  {
   "cell_type": "code",
   "execution_count": 12,
   "metadata": {},
   "outputs": [
    {
     "ename": "RuntimeError",
     "evalue": "invalid argument 4: out of range at /opt/conda/conda-bld/pytorch_1518243271935/work/torch/lib/TH/generic/THTensor.c:440",
     "output_type": "error",
     "traceback": [
      "\u001b[0;31m---------------------------------------------------------------------------\u001b[0m",
      "\u001b[0;31mRuntimeError\u001b[0m                              Traceback (most recent call last)",
      "\u001b[0;32m<ipython-input-12-4349365579c4>\u001b[0m in \u001b[0;36m<module>\u001b[0;34m()\u001b[0m\n\u001b[1;32m      1\u001b[0m \u001b[0mmodel\u001b[0m \u001b[0;34m=\u001b[0m \u001b[0mThibaults_model\u001b[0m\u001b[0;34m(\u001b[0m\u001b[0;34m)\u001b[0m\u001b[0;34m\u001b[0m\u001b[0m\n\u001b[0;32m----> 2\u001b[0;31m \u001b[0mtrain_model\u001b[0m\u001b[0;34m(\u001b[0m\u001b[0mmodel\u001b[0m\u001b[0;34m,\u001b[0m \u001b[0mtrain_input\u001b[0m\u001b[0;34m,\u001b[0m \u001b[0mtrain_target\u001b[0m\u001b[0;34m)\u001b[0m\u001b[0;34m\u001b[0m\u001b[0m\n\u001b[0m\u001b[1;32m      3\u001b[0m \u001b[0mnb_test_errors\u001b[0m \u001b[0;34m=\u001b[0m \u001b[0mcompute_nb_errors\u001b[0m\u001b[0;34m(\u001b[0m\u001b[0mmodel\u001b[0m\u001b[0;34m,\u001b[0m \u001b[0mtest_input\u001b[0m\u001b[0;34m,\u001b[0m \u001b[0mtest_target\u001b[0m\u001b[0;34m)\u001b[0m\u001b[0;34m\u001b[0m\u001b[0m\n\u001b[1;32m      4\u001b[0m print('test error Net {:0.2f}%% {:d}/{:d}'.format((100 * nb_test_errors) / test_input.size(0),\n\u001b[1;32m      5\u001b[0m                                                       nb_test_errors, test_input.size(0)))\n",
      "\u001b[0;32m<ipython-input-11-b6d46c645055>\u001b[0m in \u001b[0;36mtrain_model\u001b[0;34m(model, train_input, train_target)\u001b[0m\n\u001b[1;32m      6\u001b[0m     \u001b[0;32mfor\u001b[0m \u001b[0me\u001b[0m \u001b[0;32min\u001b[0m \u001b[0mrange\u001b[0m\u001b[0;34m(\u001b[0m\u001b[0;36m0\u001b[0m\u001b[0;34m,\u001b[0m \u001b[0mnb_epochs\u001b[0m\u001b[0;34m)\u001b[0m\u001b[0;34m:\u001b[0m\u001b[0;34m\u001b[0m\u001b[0m\n\u001b[1;32m      7\u001b[0m         \u001b[0;32mfor\u001b[0m \u001b[0mb\u001b[0m \u001b[0;32min\u001b[0m \u001b[0mrange\u001b[0m\u001b[0;34m(\u001b[0m\u001b[0;36m0\u001b[0m\u001b[0;34m,\u001b[0m \u001b[0mtrain_input\u001b[0m\u001b[0;34m.\u001b[0m\u001b[0msize\u001b[0m\u001b[0;34m(\u001b[0m\u001b[0;36m0\u001b[0m\u001b[0;34m)\u001b[0m\u001b[0;34m,\u001b[0m \u001b[0mmini_batch_size\u001b[0m\u001b[0;34m)\u001b[0m\u001b[0;34m:\u001b[0m\u001b[0;34m\u001b[0m\u001b[0m\n\u001b[0;32m----> 8\u001b[0;31m             \u001b[0moutput\u001b[0m \u001b[0;34m=\u001b[0m \u001b[0mmodel\u001b[0m\u001b[0;34m(\u001b[0m\u001b[0mtrain_input\u001b[0m\u001b[0;34m.\u001b[0m\u001b[0mnarrow\u001b[0m\u001b[0;34m(\u001b[0m\u001b[0;36m0\u001b[0m\u001b[0;34m,\u001b[0m \u001b[0mb\u001b[0m\u001b[0;34m,\u001b[0m \u001b[0mmini_batch_size\u001b[0m\u001b[0;34m)\u001b[0m\u001b[0;34m)\u001b[0m\u001b[0;34m\u001b[0m\u001b[0m\n\u001b[0m\u001b[1;32m      9\u001b[0m             \u001b[0mloss\u001b[0m \u001b[0;34m=\u001b[0m \u001b[0mcriterion\u001b[0m\u001b[0;34m(\u001b[0m\u001b[0moutput\u001b[0m\u001b[0;34m,\u001b[0m \u001b[0mtrain_target\u001b[0m\u001b[0;34m.\u001b[0m\u001b[0mnarrow\u001b[0m\u001b[0;34m(\u001b[0m\u001b[0;36m0\u001b[0m\u001b[0;34m,\u001b[0m \u001b[0mb\u001b[0m\u001b[0;34m,\u001b[0m \u001b[0mmini_batch_size\u001b[0m\u001b[0;34m)\u001b[0m\u001b[0;34m)\u001b[0m\u001b[0;34m\u001b[0m\u001b[0m\n\u001b[1;32m     10\u001b[0m             \u001b[0mmodel\u001b[0m\u001b[0;34m.\u001b[0m\u001b[0mzero_grad\u001b[0m\u001b[0;34m(\u001b[0m\u001b[0;34m)\u001b[0m\u001b[0;34m\u001b[0m\u001b[0m\n",
      "\u001b[0;31mRuntimeError\u001b[0m: invalid argument 4: out of range at /opt/conda/conda-bld/pytorch_1518243271935/work/torch/lib/TH/generic/THTensor.c:440"
     ]
    }
   ],
   "source": [
    "model = Thibaults_model()\n",
    "train_model(model, train_input, train_target)\n",
    "nb_test_errors = compute_nb_errors(model, test_input, test_target)\n",
    "print('test error Net {:0.2f}%% {:d}/{:d}'.format((100 * nb_test_errors) / test_input.size(0),\n",
    "                                                      nb_test_errors, test_input.size(0)))\n"
   ]
  },
  {
   "cell_type": "code",
   "execution_count": null,
   "metadata": {},
   "outputs": [],
   "source": []
  },
  {
   "cell_type": "code",
   "execution_count": null,
   "metadata": {},
   "outputs": [],
   "source": []
  }
 ],
 "metadata": {
  "kernelspec": {
   "display_name": "Python 3",
   "language": "python",
   "name": "python3"
  },
  "language_info": {
   "codemirror_mode": {
    "name": "ipython",
    "version": 3
   },
   "file_extension": ".py",
   "mimetype": "text/x-python",
   "name": "python",
   "nbconvert_exporter": "python",
   "pygments_lexer": "ipython3",
   "version": "3.6.3"
  }
 },
 "nbformat": 4,
 "nbformat_minor": 2
}
