{
 "cells": [
  {
   "cell_type": "markdown",
   "metadata": {},
   "source": [
    "## Import Libraries"
   ]
  },
  {
   "cell_type": "code",
   "execution_count": 1,
   "metadata": {},
   "outputs": [],
   "source": [
    "import torch\n",
    "import math\n",
    "\n",
    "from torch import optim\n",
    "from torch import Tensor\n",
    "\n",
    "from torch.autograd import Variable\n",
    "from torch import nn\n",
    "from torch.nn import functional as F\n",
    "\n",
    "import numpy as np"
   ]
  },
  {
   "cell_type": "markdown",
   "metadata": {},
   "source": [
    "## Load the data for Project n°1"
   ]
  },
  {
   "cell_type": "code",
   "execution_count": 2,
   "metadata": {},
   "outputs": [
    {
     "name": "stdout",
     "output_type": "stream",
     "text": [
      "<class 'torch.FloatTensor'> torch.Size([316, 28, 500])\n",
      "<class 'torch.LongTensor'> torch.Size([316])\n",
      "<class 'torch.FloatTensor'> torch.Size([100, 28, 500])\n",
      "<class 'torch.LongTensor'> torch.Size([100])\n"
     ]
    }
   ],
   "source": [
    "import dlc_bci as bci\n",
    "train_input, train_target = bci.load(root =  './data_bci', train=True, one_khz=True)\n",
    "train_input = train_input \n",
    "\n",
    "print(str(type(train_input)), train_input.size())\n",
    "print(str(type(train_target)), train_target.size())\n",
    "test_input, test_target = bci.load(root =  './data_bci', train=False, one_khz=True)\n",
    "print(str(type(test_input)), test_input.size())\n",
    "print(str(type(test_target)), test_target.size())"
   ]
  },
  {
   "cell_type": "markdown",
   "metadata": {},
   "source": [
    "## Normalization (by hand)"
   ]
  },
  {
   "cell_type": "code",
   "execution_count": 3,
   "metadata": {},
   "outputs": [],
   "source": [
    "train_moy = train_input.mean(dim=2).expand(train_input.size(2),train_input.size(0),train_input.size(1)).transpose(0,1).transpose(1,2)\n",
    "train_std = train_input.std(dim=2).expand(train_input.size(2),train_input.size(0),train_input.size(1)).transpose(0,1).transpose(1,2)\n",
    "train_input = train_input.sub_(train_moy).div(train_std) #center and reduce\n",
    "\n",
    "test_moy = test_input.mean(dim=2).expand(test_input.size(2),test_input.size(0),test_input.size(1)).transpose(0,1).transpose(1,2)\n",
    "test_std = test_input.std(dim=2).expand(test_input.size(2),test_input.size(0),test_input.size(1)).transpose(0,1).transpose(1,2)\n",
    "test_input = test_input.sub_(test_moy).div(test_std) #center and reduce"
   ]
  },
  {
   "cell_type": "markdown",
   "metadata": {},
   "source": [
    "## Add the channel dimension"
   ]
  },
  {
   "cell_type": "code",
   "execution_count": 4,
   "metadata": {},
   "outputs": [],
   "source": [
    "train_input = train_input.view(len(train_input),1,train_input.size(1),-1)\n",
    "test_input = test_input.view(len(test_input),1,test_input.size(1),-1)\n",
    "\n",
    "train_input, test_input, train_target, test_target = Variable(train_input), Variable(test_input), Variable(train_target), Variable(test_target)"
   ]
  },
  {
   "cell_type": "code",
   "execution_count": 15,
   "metadata": {},
   "outputs": [
    {
     "name": "stdout",
     "output_type": "stream",
     "text": [
      "nb_train_signals =  316 , nb_electrodes =  28 , nb_samples_per_signal =  500\n"
     ]
    }
   ],
   "source": [
    "nb_train_signals = train_input.shape[0]\n",
    "nb_electrodes = train_input.shape[2]\n",
    "nb_samples_per_signal = train_input.shape[3] #There was a small error in Thibault's code here, corrected here\n",
    "print('nb_train_signals = ', nb_train_signals, ', nb_electrodes = ', nb_electrodes, ', nb_samples_per_signal = ', nb_samples_per_signal)\n",
    "mini_batch_size = 32"
   ]
  },
  {
   "cell_type": "markdown",
   "metadata": {},
   "source": [
    "## Create the architecture of the NN"
   ]
  },
  {
   "cell_type": "code",
   "execution_count": 6,
   "metadata": {},
   "outputs": [],
   "source": [
    "class Flatten(nn.Module):\n",
    "    def forward(self,input):\n",
    "        return input.view(mini_batch_size, -1)"
   ]
  },
  {
   "cell_type": "code",
   "execution_count": 7,
   "metadata": {},
   "outputs": [],
   "source": [
    "def create_model():\n",
    "    return nn.Sequential(\n",
    "        nn.Conv2d(in_channels = 1, out_channels = 32, kernel_size = 3),\n",
    "        nn.ReLU(),\n",
    "#        nn.Conv2d(in_channels = 32, out_channels = 32, kernel_size = 3),\n",
    "#        nn.ReLU(),\n",
    "        nn.MaxPool2d(kernel_size = (2,6)),\n",
    "        nn.Conv2d(in_channels = 32, out_channels = 64, kernel_size = 3),\n",
    "        nn.ReLU(),\n",
    "#        nn.Conv2d(in_channels = 64, out_channels = 64, kernel_size = 3),\n",
    "#        nn.ReLU(),\n",
    "        nn.MaxPool2d(kernel_size = (2,6)),\n",
    "        nn.Conv2d(in_channels = 64, out_channels = 128, kernel_size = 3),\n",
    "        nn.ReLU(),\n",
    "#        nn.Conv2d(in_channels = 128, out_channels = 128, kernel_size = 3),\n",
    "#        nn.ReLU(),\n",
    "#        nn.MaxPool2d(kernel_size = 2),\n",
    "        nn.Conv2d(in_channels = 128, out_channels = 256, kernel_size = 3),\n",
    "        nn.ReLU(),\n",
    "#        nn.Conv2d(in_channels = 256, out_channels = 256, kernel_size = 3),\n",
    "#        nn.ReLU(),\n",
    "        Flatten(),\n",
    "        nn.Linear(2304,1000), \n",
    "        nn.Dropout(0.5),\n",
    "        nn.ReLU(),\n",
    "        nn.BatchNorm1d(1000),\n",
    "        nn.Linear(1000,1000),\n",
    "        nn.Dropout(0.5),\n",
    "        nn.ReLU(),\n",
    "        nn.BatchNorm1d(1000),\n",
    "        nn.Linear(1000,2),\n",
    "        nn.ReLU())"
   ]
  },
  {
   "cell_type": "code",
   "execution_count": 8,
   "metadata": {},
   "outputs": [],
   "source": [
    "#class Thibaults_model(nn.Module):\n",
    "#    def __init__(self):\n",
    "#        super(Thibaults_model, self).__init__()\n",
    "#        self.conv1 = nn.Conv1d(in_channels = nb_electrodes, out_channels = 32, kernel_size = 3) #Length= nb_samples_per_signal-2 = 498\n",
    "#        self.conv2 = nn.Conv1d(in_channels = 32, out_channels = 32, kernel_size = 3) #Length= nb_samples_per_signal-4 = 496\n",
    "#        self.pool  = nn.MaxPool1d(kernel_size = 2) #Length= (nb_samples_per_signal - 4)/2 = 248\n",
    "#        self.conv3 = nn.Conv1d(in_channels = 32, out_channels = 64, kernel_size = 3) #(Length= nb_samples_per_signal-4)/2 -2 = 246\n",
    "#        self.conv4 = nn.Conv1d(in_channels = 64, out_channels = 64, kernel_size = 3) #(Length= nb_samples_per_signal-4)/2 -4 = 244\n",
    "#        self.conv5 = nn.Conv1d(in_channels = 64, out_channels = 128, kernel_size = 3) #((Length= nb_samples_per_signal-4)/2 -4)/2 -2 = 120\n",
    "#        self.conv6 = nn.Conv1d(in_channels = 128, out_channels = 128, kernel_size = 3) #((Length= nb_samples_per_signal-4)/2 -4)/2 -4 = 198\n",
    "#        self.conv7 = nn.Conv1d(in_channels = 128, out_channels = 256, kernel_size = 3) #(((Length= nb_samples_per_signal-4)/2 -4)/2 - 4)/2 -2 = 97\n",
    "#        self.conv8 = nn.Conv1d(in_channels = 256, out_channels = 256, kernel_size = 3) #(((Length= nb_samples_per_signal-4)/2 -4)/2 - 4)/2  -4= 95\n",
    "#        self.fc1 = nn.Linear(in_features=14080, out_features=100) #Really not sure, hope so? apparently he recieves 256*32 channels x 55 long signals\n",
    "#        self.dropout = nn.Dropout(p=0.5)\n",
    "#        self.fc2 = nn.Linear(in_features=100, out_features=100)\n",
    "#        self.fc3 = nn.Linear(in_features=100, out_features=2)\n",
    "#    def forward(self, x):\n",
    "#        x = F.relu(self.conv1(x)) \n",
    "#        x = F.relu(self.conv2(x))\n",
    "#        x = F.relu(self.conv3(self.pool(x)))\n",
    "#        x = F.relu(self.conv4(x))\n",
    "#        x = F.relu(self.conv5(self.pool(x)))\n",
    "#        x = F.relu(self.conv6(x))\n",
    "#        x = F.relu(self.conv7(self.pool(x)))\n",
    "#        x = F.relu(self.conv8(x))\n",
    "#        x = x.view(mini_batch_size, -1)\n",
    "#        x = F.relu(self.fc3(F.relu(self.fc2(F.relu(self.fc1(x))))))\n",
    "#        return x"
   ]
  },
  {
   "cell_type": "code",
   "execution_count": 17,
   "metadata": {},
   "outputs": [],
   "source": [
    "def train_model(model, train_input, train_target):\n",
    "    criterion = nn.CrossEntropyLoss()\n",
    "    optimizer = torch.optim.Adam(model.parameters(), lr=1e-1) #No idea what those parameters do\n",
    "    nb_epochs = 50\n",
    "\n",
    "    for e in range(0, nb_epochs):\n",
    "        for b in range(math.ceil(train_input.size(0)/mini_batch_size)):\n",
    "            if ((b+1)*mini_batch_size < train_input.size(0)):\n",
    "                output = model(train_input.narrow(0, b*mini_batch_size, mini_batch_size))\n",
    "                loss = criterion(output, train_target.narrow(0, b*mini_batch_size, mini_batch_size))\n",
    "            else:\n",
    "                #que du sale mamen\n",
    "                output = model(train_input.narrow(0, train_input.size(0)-mini_batch_size, mini_batch_size))\n",
    "                loss = criterion(output, train_target.narrow(0, train_input.size(0)-mini_batch_size, mini_batch_size))\n",
    "            model.zero_grad()\n",
    "            loss.backward()\n",
    "            optimizer.step()\n",
    "\n",
    "######################################################################\n",
    "\n",
    "def compute_nb_errors(model, data_input, data_target):\n",
    "\n",
    "    nb_data_errors = 0\n",
    "\n",
    "    for b in range(math.ceil(data_input.size(0)/mini_batch_size)):\n",
    "        if ((b+1)*mini_batch_size < data_input.size(0)):\n",
    "            output = model(data_input.narrow(0, b*mini_batch_size, mini_batch_size))\n",
    "            _, predicted_classes = torch.max(output.data, 1)\n",
    "        else:\n",
    "            output = model(data_input.narrow(0, data_input.size(0)-mini_batch_size, mini_batch_size))\n",
    "            _, predicted_classes = torch.max(output.data, 1)\n",
    "        \n",
    "        for k in range(0, mini_batch_size):\n",
    "            if data_target.data[b + k] != predicted_classes[k]:\n",
    "                nb_data_errors = nb_data_errors + 1\n",
    "\n",
    "    return nb_data_errors"
   ]
  },
  {
   "cell_type": "code",
   "execution_count": 16,
   "metadata": {},
   "outputs": [],
   "source": [
    "model = create_model()"
   ]
  },
  {
   "cell_type": "code",
   "execution_count": 18,
   "metadata": {},
   "outputs": [
    {
     "name": "stdout",
     "output_type": "stream",
     "text": [
      "test error = 50.00% 50/100 and train error = 44.62% 141/316\n",
      "With a batch size of 32\n"
     ]
    }
   ],
   "source": [
    "train_model(model, train_input, train_target)\n",
    "nb_test_errors = compute_nb_errors(model, test_input, test_target)\n",
    "nb_train_errors = compute_nb_errors(model, train_input, train_target)\n",
    "print('test error = {:0.2f}% {:d}/{:d} and train error = {:0.2f}% {:d}/{:d}'.format((100 * nb_test_errors) / test_input.size(0),\n",
    "                                                                                     nb_test_errors, test_input.size(0),\n",
    "                                                                                     (100 * nb_train_errors) / train_input.size(0),\n",
    "                                                                                     nb_train_errors, train_input.size(0)))\n",
    "print('With a batch size of {}' .format(mini_batch_size))"
   ]
  }
 ],
 "metadata": {
  "kernelspec": {
   "display_name": "Python 3",
   "language": "python",
   "name": "python3"
  },
  "language_info": {
   "codemirror_mode": {
    "name": "ipython",
    "version": 3
   },
   "file_extension": ".py",
   "mimetype": "text/x-python",
   "name": "python",
   "nbconvert_exporter": "python",
   "pygments_lexer": "ipython3",
   "version": "3.6.4"
  }
 },
 "nbformat": 4,
 "nbformat_minor": 2
}
